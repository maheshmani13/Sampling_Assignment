{
 "cells": [
  {
   "cell_type": "markdown",
   "metadata": {},
   "source": [
    "# Importing Libraries"
   ]
  },
  {
   "cell_type": "code",
   "execution_count": 39,
   "metadata": {},
   "outputs": [],
   "source": [
    "from sklearn.model_selection import train_test_split, StratifiedKFold\n",
    "from sklearn.metrics import accuracy_score\n",
    "from imblearn.under_sampling import RandomUnderSampler, NearMiss\n",
    "from imblearn.over_sampling import RandomOverSampler, SMOTE\n",
    "from sklearn.tree import DecisionTreeClassifier\n",
    "from sklearn.ensemble import RandomForestClassifier\n",
    "from sklearn.linear_model import LogisticRegression\n",
    "from sklearn.svm import SVC\n",
    "from sklearn.neighbors import KNeighborsClassifier\n",
    "import warnings\n",
    "warnings.filterwarnings(\"ignore\")\n",
    "import numpy as np\n",
    "import pandas as pd\n",
    "import seaborn as sns\n",
    "import matplotlib.pyplot as plt"
   ]
  },
  {
   "cell_type": "markdown",
   "metadata": {},
   "source": [
    "# Loading , Splitting and Plotting Data"
   ]
  },
  {
   "cell_type": "code",
   "execution_count": 40,
   "metadata": {},
   "outputs": [
    {
     "data": {
      "image/png": "[encoded data removed]",
      "text/plain": [
       "<Figure size 600x600 with 1 Axes>"
      ]
     },
     "metadata": {},
     "output_type": "display_data"
    }
   ],
   "source": [
    "\n",
    "\n",
    "# Load the data\n",
    "url = 'https://raw.githubusercontent.com/AnjulaMehto/Sampling_Assignment/main/Creditcard_data.csv'\n",
    "credit_data = pd.read_csv(url)\n",
    "\n",
    "# Split the data into features and target\n",
    "X_features = credit_data.drop('Class', axis=1)\n",
    "y_target = credit_data['Class']\n",
    "\n",
    "# Split the data into training and testing sets\n",
    "X_train, X_test, y_train, y_test = train_test_split(X_features, y_target, test_size=0.2, random_state=42)\n",
    "\n",
    "# Current data plot (imbalanced)\n",
    "plt.figure(figsize=(6, 6))\n",
    "sns.countplot(x='Class', data=credit_data, palette='pastel')\n",
    "plt.title('Frequency of Binary Classes')\n",
    "plt.xlabel('Class')\n",
    "plt.ylabel('Count')\n",
    "plt.show()\n"
   ]
  },
  {
   "cell_type": "markdown",
   "metadata": {},
   "source": [
    "# Defining formulae and techniques"
   ]
  },
  {
   "cell_type": "code",
   "execution_count": 41,
   "metadata": {},
   "outputs": [],
   "source": [
    "# Define the z-value and margin of error for each sampling technique\n",
    "z_value = 2.576  # 99% confidence interval\n",
    "margin_error = 0.05  # margin of error\n",
    "\n",
    "# Calculate the sample size for each sampling technique using the formula\n",
    "sample_size = int(np.ceil((z_value**2 * 0.5 * (1-0.5)) / (margin_error**2)))\n",
    "\n",
    "# Define the sampling techniques and models\n",
    "under_sampler = RandomUnderSampler(sampling_strategy='majority', random_state=40)\n",
    "over_sampler = RandomOverSampler(sampling_strategy='minority', random_state=40)\n",
    "smote_sampler = SMOTE(sampling_strategy='minority', random_state=40)\n",
    "near_miss_sampler = NearMiss(version=3, n_neighbors=4)\n",
    "stratified_kfold_sampler = StratifiedKFold(n_splits=5, shuffle=True, random_state=42)\n",
    "\n",
    "logistic_regression_model = LogisticRegression(random_state=42, max_iter=500)\n",
    "decision_tree_model = DecisionTreeClassifier(random_state=42)\n",
    "random_forest_model = RandomForestClassifier(random_state=42)\n",
    "svc_model = SVC(random_state=42)\n",
    "knn_model = KNeighborsClassifier(n_neighbors=5)\n",
    "\n",
    "# Define a dictionary to hold the sampling techniques and models\n",
    "sampling_methods = {\n",
    "    'UnderSampler': under_sampler,\n",
    "    'OverSampler': over_sampler,\n",
    "    'SMOTE': smote_sampler,\n",
    "    'NearMiss': near_miss_sampler,\n",
    "    'StratifiedKFold': stratified_kfold_sampler,\n",
    "}\n",
    "\n",
    "classification_models = {\n",
    "    'LogisticRegression': logistic_regression_model,\n",
    "    'DecisionTree': decision_tree_model,\n",
    "    'RandomForest': random_forest_model,\n",
    "    'SVC': svc_model,\n",
    "    'KNN': knn_model,\n",
    "}\n"
   ]
  },
  {
   "cell_type": "markdown",
   "metadata": {},
   "source": [
    "# fitting the models"
   ]
  },
  {
   "cell_type": "code",
   "execution_count": 42,
   "metadata": {},
   "outputs": [],
   "source": [
    "\n",
    "# Evaluate each model on each sampling technique\n",
    "evaluation_results = {}\n",
    "for sampling_name, sampling_method in sampling_methods.items():\n",
    "    if isinstance(sampling_method, StratifiedKFold):\n",
    "        for train_index, test_index in sampling_method.split(X_train, y_train):\n",
    "            X_resampled, y_resampled = X_train.iloc[train_index], y_train.iloc[train_index]\n",
    "    else:\n",
    "        # Undersample or oversample the training data\n",
    "        X_resampled, y_resampled = sampling_method.fit_resample(X_train, y_train)\n",
    "\n",
    "    # Limit the resampled data to the sample size\n",
    "    if len(X_resampled) > sample_size:\n",
    "        X_resampled = X_resampled[:sample_size]\n",
    "        y_resampled = y_resampled[:sample_size]\n",
    "\n",
    "    for model_name, classification_model in classification_models.items():\n",
    "        # Train the model on the resampled data\n",
    "        classification_model.fit(X_resampled, y_resampled)\n",
    "\n",
    "        # Make predictions on the test data\n",
    "        y_predicted = classification_model.predict(X_test)\n",
    "\n",
    "        # Calculate the accuracy score\n",
    "        accuracy_value = accuracy_score(y_test, y_predicted)\n",
    "\n",
    "        # Add the accuracy score to the results dictionary\n",
    "        if model_name in evaluation_results:\n",
    "            evaluation_results[model_name][sampling_name] = accuracy_value\n",
    "        else:\n",
    "            evaluation_results[model_name] = {sampling_name: accuracy_value}\n"
   ]
  },
  {
   "cell_type": "markdown",
   "metadata": {},
   "source": [
    "# Printing the results"
   ]
  },
  {
   "cell_type": "code",
   "execution_count": 43,
   "metadata": {},
   "outputs": [
    {
     "name": "stdout",
     "output_type": "stream",
     "text": [
      "Evaluation Results:\n",
      "                        UnderSampler            OverSampler             SMOTE              NearMiss      StratifiedKFold\n",
      "LogisticRegression     0.5871                 0.9935                 0.9935                 0.3806                 0.9935                 \n",
      "DecisionTree           0.5677                 0.9742                 0.9290                 0.6968                 0.9935                 \n",
      "RandomForest           0.6581                 0.9935                 0.9935                 0.7355                 0.9935                 \n",
      "SVC                    0.6645                 0.9935                 0.9935                 0.5161                 0.9935                 \n",
      "KNN                    0.6839                 0.9806                 0.9871                 0.4645                 0.9935                 \n"
     ]
    }
   ],
   "source": [
    "# Print the results\n",
    "print('Evaluation Results:')\n",
    "print('{:<23} {:<23} {:<23} {:<18} {:<13} {:<10}'.format('', 'UnderSampler', 'OverSampler', 'SMOTE', 'NearMiss', 'StratifiedKFold'))\n",
    "\n",
    "for model_name, model_results in evaluation_results.items():\n",
    "    print('{:<23}'.format(model_name), end='')\n",
    "    for sampler_name in sampling_methods.keys():\n",
    "        if sampler_name in model_results:\n",
    "            print('{:<23.4f}'.format(model_results[sampler_name]), end='')\n",
    "        else:\n",
    "            print('{:<23}'.format(''), end='')\n",
    "    print()\n"
   ]
  }
 ],
 "metadata": {
  "kernelspec": {
   "display_name": "base",
   "language": "python",
   "name": "python3"
  },
  "language_info": {
   "codemirror_mode": {
    "name": "ipython",
    "version": 3
   },
   "file_extension": ".py",
   "mimetype": "text/x-python",
   "name": "python",
   "nbconvert_exporter": "python",
   "pygments_lexer": "ipython3",
   "version": "3.11.5"
  }
 },
 "nbformat": 4,
 "nbformat_minor": 2
}
